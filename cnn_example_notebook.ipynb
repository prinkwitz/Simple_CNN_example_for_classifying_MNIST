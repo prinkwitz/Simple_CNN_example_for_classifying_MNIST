{
 "cells": [
  {
   "cell_type": "code",
   "execution_count": null,
   "metadata": {},
   "outputs": [],
   "source": [
    "#!/usr/bin/env python3\n",
    "# -*- coding: utf-8 -*-\n",
    "\"\"\"\n",
    "Created on Sat Sep  8 17:47:25 2018\n",
    "\n",
    "@author: lovelace\n",
    "\"\"\"\n",
    "\n",
    "import numpy as np\n",
    "import matplotlib.pyplot as plt\n",
    "from mpl_toolkits import mplot3d\n",
    "import keras\n",
    "from keras.models import Sequential\n",
    "from keras.optimizers import *\n",
    "from keras.layers import *\n",
    "import cv2"
   ]
  },
  {
   "cell_type": "code",
   "execution_count": null,
   "metadata": {},
   "outputs": [],
   "source": [
    "%matplotlib qt"
   ]
  },
  {
   "cell_type": "code",
   "execution_count": null,
   "metadata": {},
   "outputs": [],
   "source": [
    "# load dataset:\n",
    "from keras.datasets import mnist\n",
    "(x_train, y_train), (x_test, y_test) = mnist.load_data()\n",
    "x_test_copy = x_test.copy()\n",
    "y_test_copy = y_test.copy()"
   ]
  },
  {
   "cell_type": "code",
   "execution_count": null,
   "metadata": {},
   "outputs": [],
   "source": [
    "# show example image:\n",
    "num_images = 5\n",
    "for i in range(num_images):\n",
    "    plt.subplot(1, num_images, i + 1)\n",
    "    plt.title(y_train[i])\n",
    "    plt.imshow(x_train[i], cmap = 'gray', interpolation = 'bicubic')\n",
    "    plt.xticks([]), plt.yticks([])\n",
    "plt.show()"
   ]
  },
  {
   "cell_type": "code",
   "execution_count": null,
   "metadata": {},
   "outputs": [],
   "source": [
    "# why standardize?:\n",
    "num_images = 5\n",
    "stepsize = 1\n",
    "for num_image in range(num_images):\n",
    "    x, y, z = [], [], []\n",
    "    for y_coord in range(0, 28, stepsize):\n",
    "        for x_coord in range(0, 28, stepsize):\n",
    "                x.append(x_coord)\n",
    "                y.append(y_coord)\n",
    "                z.append(x_train[num_image, x_coord, y_coord])\n",
    "              \n",
    "    fig = plt.figure()\n",
    "    ax = fig.add_subplot(111, projection='3d')\n",
    "    ax.scatter(x, y, z, c=z, cmap=plt.hot())\n",
    "    plt.show()"
   ]
  },
  {
   "cell_type": "code",
   "execution_count": null,
   "metadata": {},
   "outputs": [],
   "source": [
    "# standardize data:\n",
    "mean = np.mean(x_train, axis=0)\n",
    "std = np.std(x_train, axis=0) + np.ones((28, 28)) * 1e-7\n",
    "\n",
    "x_train = x_train - mean\n",
    "x_test = x_test - mean\n",
    "x_train = x_train / std\n",
    "x_test = x_test / std"
   ]
  },
  {
   "cell_type": "code",
   "execution_count": null,
   "metadata": {},
   "outputs": [],
   "source": [
    "# why standardize? result:\n",
    "stepsize = 1\n",
    "for num_image in range(num_images):\n",
    "    x, y, z = [], [], []\n",
    "    for y_coord in range(0, 28, stepsize):\n",
    "        for x_coord in range(0, 28, stepsize):\n",
    "                x.append(x_coord)\n",
    "                y.append(y_coord)\n",
    "                z.append(x_train[num_image, x_coord, y_coord])\n",
    "              \n",
    "    fig = plt.figure()\n",
    "    ax = fig.add_subplot(111, projection='3d')\n",
    "    ax.scatter(x, y, z, c=z, cmap=plt.hot())\n",
    "    plt.show()"
   ]
  },
  {
   "cell_type": "code",
   "execution_count": null,
   "metadata": {},
   "outputs": [],
   "source": [
    "# define ann:\n",
    "# show link to cnn visualization\n",
    "model = Sequential()\n",
    "model.add(Conv2D(8, (3, 3), activation='relu', padding='same', input_shape=(28, 28, 1)))\n",
    "model.add(MaxPool2D(pool_size=(2, 2)))\n",
    "\n",
    "model.add(Conv2D(8, (3, 3), activation='relu', padding='same'))\n",
    "model.add(MaxPool2D(pool_size=(2, 2)))\n",
    "\n",
    "model.add(Flatten())\n",
    "model.add(Dense(128, activation='relu'))\n",
    "model.add(Dense(128, activation='relu'))\n",
    "model.add(Dense(128, activation='relu'))\n",
    "model.add(Dense(10, activation='softmax'))"
   ]
  },
  {
   "cell_type": "code",
   "execution_count": null,
   "metadata": {},
   "outputs": [],
   "source": [
    "# compile model:\n",
    "model.compile(loss='categorical_crossentropy', optimizer='adam', metrics=['accuracy'])\n",
    "print(model.summary())"
   ]
  },
  {
   "cell_type": "code",
   "execution_count": null,
   "metadata": {},
   "outputs": [],
   "source": [
    "# reshape because of technical reasons:\n",
    "print('old x shape:', x_train.shape)\n",
    "print('old y shape:', y_train.shape)\n",
    "print('old y at index 0:', y_train[0])\n",
    "print('old y at index 1:', y_train[1], '\\n')\n",
    "x_train = x_train.reshape((-1, 28, 28, 1))\n",
    "x_test = x_test.reshape((-1, 28, 28, 1))\n",
    "y_train = keras.utils.to_categorical(y_train, num_classes=10)\n",
    "y_test = keras.utils.to_categorical(y_test, num_classes=10)\n",
    "print('new x shape:', x_train.shape)\n",
    "print('new y at index 0:', y_train[0])\n",
    "print('new y at index 1:', y_train[1])\n",
    "print('new y shape:', y_train.shape)"
   ]
  },
  {
   "cell_type": "code",
   "execution_count": null,
   "metadata": {},
   "outputs": [],
   "source": [
    "# for learning visualization:\n",
    "from time import time\n",
    "from keras.callbacks import TensorBoard\n",
    "tensorboard = TensorBoard(log_dir=\"logs/{}\".format(time()))"
   ]
  },
  {
   "cell_type": "code",
   "execution_count": null,
   "metadata": {},
   "outputs": [],
   "source": [
    "# show tensorboard after training\n",
    "model.fit(x_train, y_train, epochs=5, batch_size=32, callbacks=[tensorboard])"
   ]
  },
  {
   "cell_type": "code",
   "execution_count": null,
   "metadata": {},
   "outputs": [],
   "source": [
    "# testing:\n",
    "testing_scores = model.evaluate(x_test, y_test, batch_size=32)\n",
    "print('testing accuracy:\\t', round(testing_scores[1] * 100, 3), '%', \n",
    "      '\\ntesting loss:\\t\\t', round(testing_scores[0], 3))\n",
    "training_scores = model.evaluate(x_train, y_train, batch_size=32)\n",
    "print('training accuracy:\\t', round(training_scores[1] * 100, 3), '%', \n",
    "      '\\ntraining loss:\\t\\t', round(training_scores[0], 3))"
   ]
  },
  {
   "cell_type": "code",
   "execution_count": null,
   "metadata": {},
   "outputs": [],
   "source": [
    "# view some predictions:\n",
    "testing_indeces = np.random.randint(0, x_test_copy.shape[0], 9)\n",
    "x_view = x_test[testing_indeces, :]\n",
    "x_view_original = x_test_copy[testing_indeces, :]\n",
    "y_view = y_test_copy[testing_indeces]\n",
    "prediction = model.predict(x_view)\n",
    "for i in range(3):\n",
    "    for j in range(3):\n",
    "        plt.subplot(33 * 10 + (i * 3) + j + 1)\n",
    "        prediction_row = prediction[(i * 3) + j]\n",
    "        prediction_row_max = np.max(prediction_row)\n",
    "        predicted_label = prediction_row.argmax()\n",
    "        title = str(predicted_label) + '  ' + str(round(prediction_row_max * 100, 2)) + '%'\n",
    "        plt.title(title)\n",
    "        plt.imshow(x_view_original[(i * 3) + j], cmap = 'gray', interpolation = 'bicubic')\n",
    "        plt.xticks([]), plt.yticks([])\n",
    "plt.show()"
   ]
  },
  {
   "cell_type": "code",
   "execution_count": null,
   "metadata": {},
   "outputs": [],
   "source": []
  }
 ],
 "metadata": {
  "kernelspec": {
   "display_name": "Python 3",
   "language": "python",
   "name": "python3"
  },
  "language_info": {
   "codemirror_mode": {
    "name": "ipython",
    "version": 3
   },
   "file_extension": ".py",
   "mimetype": "text/x-python",
   "name": "python",
   "nbconvert_exporter": "python",
   "pygments_lexer": "ipython3",
   "version": "3.6.5"
  }
 },
 "nbformat": 4,
 "nbformat_minor": 2
}
